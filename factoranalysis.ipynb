{
 "cells": [
  {
   "cell_type": "code",
   "execution_count": 2,
   "metadata": {},
   "outputs": [],
   "source": [
    "import pyforest as py \n"
   ]
  },
  {
   "cell_type": "code",
   "execution_count": 3,
   "metadata": {},
   "outputs": [
    {
     "data": {
      "application/javascript": "\n        if (window._pyforest_update_imports_cell) { window._pyforest_update_imports_cell('import pandas as pd'); }\n    ",
      "text/plain": [
       "<IPython.core.display.Javascript object>"
      ]
     },
     "metadata": {},
     "output_type": "display_data"
    }
   ],
   "source": [
    "df = pd.read_csv(\"womentrackrecords.csv\")"
   ]
  },
  {
   "cell_type": "code",
   "execution_count": 4,
   "metadata": {},
   "outputs": [
    {
     "name": "stdout",
     "output_type": "stream",
     "text": [
      "     COUNTRY     X1     X2     X3    X4    X5    X6      X7\n",
      "0  Argentina  11.61  22.94  54.50  2.15  4.43  9.79  178.52\n",
      "1  Australia  11.20  22.35  51.80  1.98  4.13  9.08  152.37\n",
      "2    Austria  11.43  23.09  50.62  1.99  4.22  9.34  159.37\n",
      "3    Belgium  11.41  23.04  52.00  2.00  4.14  8.88  157.85\n",
      "4    Bermuda  11.46  23.05  53.30  2.16  4.58  9.81  169.98\n"
     ]
    }
   ],
   "source": [
    "print(df.head())"
   ]
  },
  {
   "cell_type": "code",
   "execution_count": 5,
   "metadata": {},
   "outputs": [],
   "source": [
    "X = df.iloc[:, 1:8]"
   ]
  },
  {
   "cell_type": "code",
   "execution_count": 6,
   "metadata": {},
   "outputs": [],
   "source": [
    "from sklearn.preprocessing import StandardScaler\n",
    "sc = StandardScaler()\n",
    "X_scaled = sc.fit_transform(X)"
   ]
  },
  {
   "cell_type": "code",
   "execution_count": 7,
   "metadata": {},
   "outputs": [
    {
     "name": "stdout",
     "output_type": "stream",
     "text": [
      "[[-0.02244285 -0.56223724  0.30020929  0.68667744  0.08068672  0.39398374\n",
      "   0.17449621]\n",
      " [-0.94259964 -1.08128697 -0.61109652 -0.89861492 -0.68007382 -0.25163376\n",
      "  -0.69187071]\n",
      " [-0.42641412 -0.43027544 -1.00937091 -0.80536243 -0.45184566 -0.01521045\n",
      "  -0.45995605]\n",
      " [-0.47129982 -0.4742627  -0.54359238 -0.71210993 -0.65471513 -0.43349784\n",
      "  -0.51031466]\n",
      " [-0.35908558 -0.46546525 -0.10481551  0.77992993  0.461067    0.41217014\n",
      "  -0.10843968]]\n"
     ]
    }
   ],
   "source": [
    "print(X_scaled[:5])  "
   ]
  },
  {
   "cell_type": "markdown",
   "metadata": {},
   "source": [
    "# PERFORM BARTLET TEST\n",
    "### Test hypothesis there is a correlation existing among the features "
   ]
  },
  {
   "cell_type": "code",
   "execution_count": 8,
   "metadata": {},
   "outputs": [
    {
     "name": "stdout",
     "output_type": "stream",
     "text": [
      "Bartlett Test Results:\n",
      "Statistic: 2.3812825616793726e-14\n",
      "P-value: 1.0\n",
      "Fail to reject null hypothesis: The variances are equal.\n"
     ]
    }
   ],
   "source": [
    "import pandas as pd\n",
    "from scipy.stats import bartlett\n",
    "from sklearn.preprocessing import StandardScaler\n",
    "\n",
    "# Load the df from CSV\n",
    "df = pd.read_csv(\"womentrackrecords.csv\")\n",
    "\n",
    "# Assuming you have seven groups represented by seven columns in your DataFrame\n",
    "\n",
    "group1 = df['X1']  # Replace 'Group1' with the actual column name representing Group 1\n",
    "group2 = df['X2']  # Replace 'Group2' with the actual column name representing Group 2\n",
    "group3 = df['X3']  # Replace 'Group3' with the actual column name representing Group 3\n",
    "group4 = df['X4']  # Replace 'Group4' with the actual column name representing Group 4\n",
    "group5 = df['X5']  # Replace 'Group5' with the actual column name representing Group 5\n",
    "group6 = df['X6']  # Replace 'Group6' with the actual column name representing Group 6\n",
    "group7 = df['X7']  # Replace 'Group7' with the actual column name representing Group 7\n",
    "\n",
    "# Combine the groups into a 2D array\n",
    "groups_data = pd.concat([group1, group2, group3, group4, group5, group6, group7], axis=1)\n",
    "\n",
    "# Perform standard scaling\n",
    "scaler = StandardScaler()\n",
    "scaled_data = scaler.fit_transform(groups_data)\n",
    "# Perform Bartlett's test\n",
    "statistic, p_value = bartlett(*scaled_data.T)\n",
    "\n",
    "# Interpret the results\n",
    "alpha = 0.05\n",
    "print(\"Bartlett Test Results:\")\n",
    "print(\"Statistic:\", statistic)\n",
    "print(\"P-value:\", p_value)\n",
    "if p_value < alpha:\n",
    "    print(\"Reject null hypothesis: The variances are not equal.\")\n",
    "else:\n",
    "    print(\"Fail to reject null hypothesis: The variances are equal.\")\n"
   ]
  },
  {
   "cell_type": "markdown",
   "metadata": {},
   "source": [
    "# KMO TEST\n",
    "### It measures the proportion of variance that might be common among the variables ."
   ]
  },
  {
   "cell_type": "code",
   "execution_count": 9,
   "metadata": {},
   "outputs": [
    {
     "name": "stdout",
     "output_type": "stream",
     "text": [
      "KMO Test Results:\n",
      "Overall KMO: 0.8902963658277505\n"
     ]
    }
   ],
   "source": [
    "import pandas as pd\n",
    "from factor_analyzer.factor_analyzer import calculate_kmo\n",
    "from sklearn.preprocessing import StandardScaler\n",
    "\n",
    "# Load the df from CSV\n",
    "df = pd.read_csv(\"womentrackrecords.csv\")\n",
    "\n",
    "# Assuming you have seven groups represented by seven columns in your DataFrame\n",
    "\n",
    "group1 = df['X1']  \n",
    "group2 = df['X2']  \n",
    "group3 = df['X3'] \n",
    "group4 = df['X4']  \n",
    "group5 = df['X5']  \n",
    "group6 = df['X6']  \n",
    "group7 = df['X7']  \n",
    "\n",
    "# Combine the groups into a 2D array\n",
    "groups_data = pd.concat([group1, group2, group3, group4, group5, group6, group7], axis=1)\n",
    "\n",
    "# Perform standard scaling\n",
    "scaler = StandardScaler()\n",
    "scaled_data = scaler.fit_transform(groups_data)\n",
    "\n",
    "# Perform KMO test\n",
    "kmo_all, kmo_model = calculate_kmo(scaled_data)\n",
    "\n",
    "# Interpret the results\n",
    "print(\"KMO Test Results:\")\n",
    "print(\"Overall KMO:\", kmo_model)"
   ]
  },
  {
   "cell_type": "markdown",
   "metadata": {},
   "source": [
    " ### A KMO value closer to 1 suggests that the variables are well-suited for factor analysis, indicating strong patterns of correlation among the variables.\n",
    "### Generally, a KMO value above 0.6 is considered acceptable, while values closer to 1 indicate better suitability for factor analysis"
   ]
  },
  {
   "cell_type": "code",
   "execution_count": 10,
   "metadata": {},
   "outputs": [
    {
     "name": "stdout",
     "output_type": "stream",
     "text": [
      "Eigenvalues:\n",
      "[5.06759677 0.6020256  0.44429295 0.36590389 0.26931274 0.13929091\n",
      " 0.11157713]\n",
      "\n",
      "Communalities:\n",
      "[0.8632044  0.86854473 0.77623794 0.84827979 0.79619776 0.73826138\n",
      " 0.77889637]\n",
      "\n",
      "Specific Variances:\n",
      "[0.1367956  0.13145527 0.22376206 0.15172021 0.20380224 0.26173862\n",
      " 0.22110363]\n",
      "\n",
      "Factor Loadings:\n",
      "[[0.8399412  0.3971186 ]\n",
      " [0.86109019 0.35646657]\n",
      " [0.81415209 0.33674071]\n",
      " [0.61543129 0.6852183 ]\n",
      " [0.22614824 0.86316553]\n",
      " [0.48965453 0.7060452 ]\n",
      " [0.46668107 0.74906952]]\n"
     ]
    }
   ],
   "source": [
    "import pandas as pd\n",
    "df = pd.read_csv(\"womentrackrecords.csv\")\n",
    "\n",
    "X = df.iloc[:, 1:8]\n",
    "\n",
    "from sklearn.preprocessing import StandardScaler\n",
    "sc = StandardScaler()\n",
    "X_scaled = sc.fit_transform(X)\n",
    "\n",
    "from factor_analyzer import FactorAnalyzer\n",
    "## we have decided to only have two factor hence n_factors=2 \n",
    "fa = FactorAnalyzer(n_factors=2, rotation=\"varimax\", method=\"principal\", \n",
    "                    is_corr_matrix=False)\n",
    "fa.fit(X_scaled)\n",
    "\n",
    "print(\"Eigenvalues:\")\n",
    "print(fa.get_eigenvalues()[0])\n",
    "print()\n",
    "print(\"Communalities:\")\n",
    "print(fa.get_communalities())\n",
    "print()\n",
    "print(\"Specific Variances:\")\n",
    "print(fa.get_uniquenesses())\n",
    "print()\n",
    "print(\"Factor Loadings:\")\n",
    "print(fa.loadings_)"
   ]
  },
  {
   "cell_type": "markdown",
   "metadata": {},
   "source": []
  },
  {
   "cell_type": "code",
   "execution_count": 11,
   "metadata": {},
   "outputs": [
    {
     "data": {
      "text/plain": [
       "Text(0.5, 1.0, 'Scree Plot')"
      ]
     },
     "execution_count": 11,
     "metadata": {},
     "output_type": "execute_result"
    },
    {
     "data": {
      "image/png": "[encoded data removed]",
      "text/plain": [
       "<Figure size 640x480 with 1 Axes>"
      ]
     },
     "metadata": {},
     "output_type": "display_data"
    }
   ],
   "source": [
    "# Lets plot a scree plot to identify values greater than one \n",
    "\n",
    "import matplotlib.pyplot as plt\n",
    "plt.style.use(\"ggplot\")\n",
    "\n",
    "plt.plot(fa.get_eigenvalues()[0], marker='o')\n",
    "plt.xlabel(\"Eigenvalue number\")\n",
    "plt.ylabel(\"Eigenvalue size\")\n",
    "plt.title(\"Scree Plot\")"
   ]
  },
  {
   "cell_type": "code",
   "execution_count": 12,
   "metadata": {},
   "outputs": [
    {
     "name": "stderr",
     "output_type": "stream",
     "text": [
      "C:\\Users\\25470\\AppData\\Local\\Temp\\ipykernel_11436\\3667315942.py:4: UserWarning: Pandas requires version '3.0.5' or newer of 'xlsxwriter' (version '3.0.3' currently installed).\n",
      "  transformed_df.to_excel(\"track_records_81_var.xlsx\", index=False)\n"
     ]
    }
   ],
   "source": [
    "# Only two factors have eigen values which are or greater than 1 that is column 0 and 1 i.e factors which explain variance more than a single observed variable \n",
    "transformed_df = pd.DataFrame(fa.transform(X_scaled), columns=['RF1', 'RF2'])\n",
    "transformed_df.to_csv(\"track_records_81_var.csv\", index=False)\n",
    "transformed_df.to_excel(\"track_records_81_var.xlsx\", index=False)"
   ]
  },
  {
   "cell_type": "markdown",
   "metadata": {},
   "source": [
    "# CRONBACH ALPHA \n",
    "### It is used to measure if our factors are good \n",
    "##### it can be used to measure whether or not variables of a factor form a coherent and reliable factor .A value of above 0.6 is deemed acceptable "
   ]
  },
  {
   "cell_type": "code",
   "execution_count": 15,
   "metadata": {},
   "outputs": [
    {
     "name": "stdout",
     "output_type": "stream",
     "text": [
      "(0.5952803628635827, array([0.387, 0.745])) (0.0963812944773404, array([-0.414,  0.443]))\n"
     ]
    }
   ],
   "source": [
    "import pingouin as pg\n",
    "#Create the factors\n",
    "speed = df[['X1', 'X2', 'X3', 'X4']]\n",
    "endurance_tolerance = df[[ 'X5', 'X6','X7']]\n",
    "#Get cronbach alpha\n",
    "speed = pg.cronbach_alpha(speed)\n",
    "endurance_tolerance = pg.cronbach_alpha(endurance_tolerance)\n",
    "\n",
    "print(speed, endurance_tolerance)\n"
   ]
  }
 ],
 "metadata": {
  "kernelspec": {
   "display_name": "Python 3",
   "language": "python",
   "name": "python3"
  },
  "language_info": {
   "codemirror_mode": {
    "name": "ipython",
    "version": 3
   },
   "file_extension": ".py",
   "mimetype": "text/x-python",
   "name": "python",
   "nbconvert_exporter": "python",
   "pygments_lexer": "ipython3",
   "version": "3.9.13"
  }
 },
 "nbformat": 4,
 "nbformat_minor": 2
}
